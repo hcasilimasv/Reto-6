{
 "cells": [
  {
   "cell_type": "code",
   "execution_count": 2,
   "metadata": {},
   "outputs": [
    {
     "name": "stdout",
     "output_type": "stream",
     "text": [
      "El volumen total del la esfera y el cono es 295650.04864157946\n",
      "El area total del la esfera y el cono es 33089.78883260909\n"
     ]
    }
   ],
   "source": [
    "import math\n",
    "def vol (r_1:float, r_2:float,h:float):\n",
    "   return ((4/3) *math.pi * r_1**3) + ((1/3) * math.pi * r_2**2 * h)\n",
    "def are (r_1:float,r_2:float,h:float):\n",
    "   return (4 * math.pi * r_1**2) + (math.pi * r_2 * (r_2 + math.sqrt(h**2 + r_2**2)))\n",
    "if __name__ == \"__main__\":\n",
    "   r_1 = float(input(\"Escribir el valor del radio de la esfera\"))\n",
    "   r_2 = float(input(\"Escribir el valor del radio del cono\"))\n",
    "   h = float(input(\"Escribir el valor de la altura del cono\"))\n",
    "   vol_t = vol(r_1,r_2,h)\n",
    "   print(\"El volumen total del la esfera y el cono es \" + str(vol_t) + \"\")\n",
    "   are_t = are(r_1,r_2,h)\n",
    "   print(\"El area total del la esfera y el cono es \" + str(are_t) + \"\")"
   ]
  },
  {
   "cell_type": "code",
   "execution_count": 9,
   "metadata": {},
   "outputs": [
    {
     "name": "stdout",
     "output_type": "stream",
     "text": [
      "El area total del la figura es 255848.33599241287\n",
      "El perimetro total del la figura es 5444.3359924128745\n"
     ]
    }
   ],
   "source": [
    "import math\n",
    "def are (a:float, b:float, r:float):\n",
    "    return (b*a) + 2*(math.pi*r)\n",
    "def per (a:float, b:float, r:float):\n",
    "    return (2*(b+a)) + (2*math.pi*r)\n",
    "if __name__ == \"__main__\":\n",
    "    a = float(input(\"Escribir el valor de la altura de la rectangulo\"))\n",
    "    b = float(input(\"Escribir el valor de la base de la rectangulo\"))\n",
    "    r = float(input(\"Escribir el valor del radio de los dos circulos\"))\n",
    "area_t = are(a, b, r)\n",
    "print(\"El area total del la figura es \" + str(area_t) + \"\")\n",
    "per_t = per(a, b, r)\n",
    "print(\"El perimetro total del la figura es \" + str(per_t) + \"\")\n"
   ]
  },
  {
   "cell_type": "code",
   "execution_count": 8,
   "metadata": {},
   "outputs": [
    {
     "name": "stdout",
     "output_type": "stream",
     "text": [
      "la cantidad de carne que posees en total es 630.0 kilogramos\n"
     ]
    }
   ],
   "source": [
    "def carne (n:float, m:float, k:float):\n",
    "    return (n*6) + (m*7) + (k)\n",
    "if __name__ == \"__main__\":\n",
    "    n = float(input(\"Escribir la cantidad de gallinas que posees\"))\n",
    "    m = float(input(\"Escribir la cantidad de gallos que posees\"))\n",
    "    k = float(input(\"Escribir la cantidad de pollitos que posees\"))\n",
    "carne_t = carne(n, m, k)\n",
    "print(\"la cantidad de carne que posees en total es \" + str(carne_t) + \" kilogramos\")"
   ]
  },
  {
   "cell_type": "code",
   "execution_count": 7,
   "metadata": {},
   "outputs": [
    {
     "name": "stdout",
     "output_type": "stream",
     "text": [
      "mijo con eso no alcanza comprar lo que quieres, es mas debe -178146.0 pesos\n"
     ]
    }
   ],
   "source": [
    "def buy (p:float, m:float, h:float, b):\n",
    "    return - ((p * 300) + (m * 3300) + (h * 300)) + b\n",
    "if __name__ == \"__main__\":\n",
    "    p = float(input(\"Escribir la cantidad de panes a comprar\"))\n",
    "    m = float(input(\"Escribir la cantidad de leche a comprar\"))\n",
    "    h = float(input(\"Escribir la cantidad de huevos a comprar\"))\n",
    "    b = float(input(\"Escribir la cantidad con la que va pagar\"))\n",
    "cambio = buy(p, m, h, b)\n",
    "if cambio >= 0:\n",
    "   print(\"sus vueltas son \" + str(cambio) + \" pesos\")\n",
    "else:\n",
    "    print(\"mijo con eso no alcanza comprar lo que quieres, es mas debe \"+ str(cambio) + \" pesos\")"
   ]
  },
  {
   "cell_type": "code",
   "execution_count": 6,
   "metadata": {},
   "outputs": [
    {
     "name": "stdout",
     "output_type": "stream",
     "text": [
      "El valor total del prestamo es de 386116192.75650734 pesos\n"
     ]
    }
   ],
   "source": [
    "def prestamo (c:float, i:float, n:float):\n",
    "    return c * (1 + i/100) ** n\n",
    "if __name__ == \"__main__\":\n",
    "    c = float(input(\"Escriba la cantidad que desea prestar\"))\n",
    "    i = float(input(\"Escriba la tasa de interes que desea aclarando que el maximo es 100\"))\n",
    "    n = float(input(\"Escriba la cantidad de meses para pagar el prestamo\"))\n",
    "v_prestamo = prestamo(c, i, n)\n",
    "print(\"El valor total del prestamo es de \" + str(v_prestamo) + \" pesos\")"
   ]
  },
  {
   "cell_type": "code",
   "execution_count": 5,
   "metadata": {},
   "outputs": [
    {
     "name": "stdout",
     "output_type": "stream",
     "text": [
      "El numero total de contagiados despues de 45.0 dias es 4050.0\n"
     ]
    }
   ],
   "source": [
    "def covid_19 (c, d):\n",
    "    return c * (2 * d)\n",
    "if __name__ == \"__main__\":\n",
    "    c = float(input(\"Escriba el numero total de contagiados\"))\n",
    "    d = float(input(\"Escriba el total de dias transcurridos\"))\n",
    "contiagados = covid_19(c, d)\n",
    "print(\"El numero total de contagiados despues de \" + str(d) + \" dias es \" + str(contiagados) + \"\")"
   ]
  },
  {
   "cell_type": "code",
   "execution_count": 4,
   "metadata": {},
   "outputs": [
    {
     "name": "stdout",
     "output_type": "stream",
     "text": [
      "El promedio es 3.0\n",
      "La mediana es 3.0\n",
      "El promedio multiplicativo es 2.605171084697352\n",
      "El orden de los numeros en forma ascendete es [1.0, 2.0, 3.0, 4.0, 5.0]\n",
      "El orden de los numeros en forma descendente es [5.0, 4.0, 3.0, 2.0, 1.0]\n",
      "La potencia del mayor numero elevado al menor numero es 5.0\n",
      "La raiz cubica del menor numero es 1.0\n"
     ]
    }
   ],
   "source": [
    "def promedio (a:float, b:float, c:float, d:float, e:float):\n",
    "    return (a + b + c + d + e) / 5\n",
    "def mediana (a:float, b:float, c:float, d:float, e:float):\n",
    "    return (a + b + c + d + e) // 5\n",
    "def pro_multi (a:float, b:float, c:float, d:float, e:float):\n",
    "    return (a * b * c * d * e) ** (1/5)\n",
    "def ascendente (a:float, b:float, c:float, d:float, e:float):\n",
    "    return sorted((a, b, c, d, e))\n",
    "def descendente (a:float, b:float, c:float, d:float, e:float):\n",
    "    return sorted((a, b, c, d, e), reverse = True)\n",
    "def potencia (a:float, b:float, c:float, d:float, e:float):\n",
    "    return max (a, b, c, d, e) ** min (a, b, c, d, e)\n",
    "def raiz_cubica (a:float, b:float, c:float, d:float, e:float):\n",
    "    return min (a, b, c, d, e) ** (1/3)\n",
    "if __name__ == \"__main__\":\n",
    "    a = float(input(\"Escriba el primer numero\"))\n",
    "    b = float(input(\"Escriba el segundo numero: \"))\n",
    "    c = float(input(\"Escriba el tercer numero: \"))\n",
    "    d = float(input(\"Escriba el cuarto numero: \"))\n",
    "    e = float(input(\"Escriba el quinto numero: \"))\n",
    "cal_promedio = promedio(a, b, c, d, e)\n",
    "cal_mediana = mediana(a, b, c, d, e)\n",
    "cal_pro_multi = pro_multi(a, b, c, d, e)\n",
    "cal_ascendente = ascendente(a, b, c, d, e)\n",
    "cal_descendente = descendente(a, b, c, d, e)\n",
    "cal_potencia = potencia(a, b, c, d, e)\n",
    "cal_raiz_cubica = raiz_cubica(a, b, c, d, e)\n",
    "print(\"El promedio es \" + str(cal_promedio) + \"\")\n",
    "print(\"La mediana es \" + str(cal_mediana) + \"\")\n",
    "print(\"El promedio multiplicativo es \" + str(cal_pro_multi) +\"\")\n",
    "print(\"El orden de los numeros en forma ascendete es \" + str(cal_ascendente) + \"\")\n",
    "print(\"El orden de los numeros en forma descendente es \" + str(cal_descendente) + \"\")\n",
    "print(\"La potencia del mayor numero elevado al menor numero es \" + str(cal_potencia) + \"\")\n",
    "print(\"La raiz cubica del menor numero es \" + str(cal_raiz_cubica) + \"\")"
   ]
  }
 ],
 "metadata": {
  "kernelspec": {
   "display_name": "Python 3",
   "language": "python",
   "name": "python3"
  },
  "language_info": {
   "codemirror_mode": {
    "name": "ipython",
    "version": 3
   },
   "file_extension": ".py",
   "mimetype": "text/x-python",
   "name": "python",
   "nbconvert_exporter": "python",
   "pygments_lexer": "ipython3",
   "version": "3.11.8"
  }
 },
 "nbformat": 4,
 "nbformat_minor": 2
}
